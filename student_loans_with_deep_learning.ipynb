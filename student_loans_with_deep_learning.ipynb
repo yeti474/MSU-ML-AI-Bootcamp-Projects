{
 "cells": [
  {
   "cell_type": "markdown",
   "metadata": {},
   "source": [
    "# Student Loan Risk with Deep Learning"
   ]
  },
  {
   "cell_type": "code",
   "execution_count": 152,
   "metadata": {},
   "outputs": [],
   "source": [
    "# Imports\n",
    "import pandas as pd\n",
    "from pathlib import Path\n",
    "import tensorflow as tf\n",
    "from tensorflow.keras.layers import Dense\n",
    "from tensorflow.keras.models import Sequential\n",
    "from sklearn.model_selection import train_test_split\n",
    "from sklearn.preprocessing import StandardScaler"
   ]
  },
  {
   "cell_type": "markdown",
   "metadata": {},
   "source": [
    "---\n",
    "\n",
    "## Prepare the data to be used on a neural network model"
   ]
  },
  {
   "cell_type": "markdown",
   "metadata": {},
   "source": [
    "### Step 1: Read the `student_loans.csv` file into a Pandas DataFrame. Review the DataFrame, looking for columns that could eventually define your features and target variables.   "
   ]
  },
  {
   "cell_type": "code",
   "execution_count": 153,
   "metadata": {},
   "outputs": [
    {
     "data": {
      "text/html": [
       "<div>\n",
       "<style scoped>\n",
       "    .dataframe tbody tr th:only-of-type {\n",
       "        vertical-align: middle;\n",
       "    }\n",
       "\n",
       "    .dataframe tbody tr th {\n",
       "        vertical-align: top;\n",
       "    }\n",
       "\n",
       "    .dataframe thead th {\n",
       "        text-align: right;\n",
       "    }\n",
       "</style>\n",
       "<table border=\"1\" class=\"dataframe\">\n",
       "  <thead>\n",
       "    <tr style=\"text-align: right;\">\n",
       "      <th></th>\n",
       "      <th>payment_history</th>\n",
       "      <th>location_parameter</th>\n",
       "      <th>stem_degree_score</th>\n",
       "      <th>gpa_ranking</th>\n",
       "      <th>alumni_success</th>\n",
       "      <th>study_major_code</th>\n",
       "      <th>time_to_completion</th>\n",
       "      <th>finance_workshop_score</th>\n",
       "      <th>cohort_ranking</th>\n",
       "      <th>total_loan_score</th>\n",
       "      <th>financial_aid_score</th>\n",
       "      <th>credit_ranking</th>\n",
       "    </tr>\n",
       "  </thead>\n",
       "  <tbody>\n",
       "    <tr>\n",
       "      <th>0</th>\n",
       "      <td>7.4</td>\n",
       "      <td>0.70</td>\n",
       "      <td>0.00</td>\n",
       "      <td>1.9</td>\n",
       "      <td>0.076</td>\n",
       "      <td>11.0</td>\n",
       "      <td>34.0</td>\n",
       "      <td>0.9978</td>\n",
       "      <td>3.51</td>\n",
       "      <td>0.56</td>\n",
       "      <td>9.4</td>\n",
       "      <td>5</td>\n",
       "    </tr>\n",
       "    <tr>\n",
       "      <th>1</th>\n",
       "      <td>7.8</td>\n",
       "      <td>0.88</td>\n",
       "      <td>0.00</td>\n",
       "      <td>2.6</td>\n",
       "      <td>0.098</td>\n",
       "      <td>25.0</td>\n",
       "      <td>67.0</td>\n",
       "      <td>0.9968</td>\n",
       "      <td>3.20</td>\n",
       "      <td>0.68</td>\n",
       "      <td>9.8</td>\n",
       "      <td>5</td>\n",
       "    </tr>\n",
       "    <tr>\n",
       "      <th>2</th>\n",
       "      <td>7.8</td>\n",
       "      <td>0.76</td>\n",
       "      <td>0.04</td>\n",
       "      <td>2.3</td>\n",
       "      <td>0.092</td>\n",
       "      <td>15.0</td>\n",
       "      <td>54.0</td>\n",
       "      <td>0.9970</td>\n",
       "      <td>3.26</td>\n",
       "      <td>0.65</td>\n",
       "      <td>9.8</td>\n",
       "      <td>5</td>\n",
       "    </tr>\n",
       "    <tr>\n",
       "      <th>3</th>\n",
       "      <td>11.2</td>\n",
       "      <td>0.28</td>\n",
       "      <td>0.56</td>\n",
       "      <td>1.9</td>\n",
       "      <td>0.075</td>\n",
       "      <td>17.0</td>\n",
       "      <td>60.0</td>\n",
       "      <td>0.9980</td>\n",
       "      <td>3.16</td>\n",
       "      <td>0.58</td>\n",
       "      <td>9.8</td>\n",
       "      <td>6</td>\n",
       "    </tr>\n",
       "    <tr>\n",
       "      <th>4</th>\n",
       "      <td>7.4</td>\n",
       "      <td>0.70</td>\n",
       "      <td>0.00</td>\n",
       "      <td>1.9</td>\n",
       "      <td>0.076</td>\n",
       "      <td>11.0</td>\n",
       "      <td>34.0</td>\n",
       "      <td>0.9978</td>\n",
       "      <td>3.51</td>\n",
       "      <td>0.56</td>\n",
       "      <td>9.4</td>\n",
       "      <td>5</td>\n",
       "    </tr>\n",
       "  </tbody>\n",
       "</table>\n",
       "</div>"
      ],
      "text/plain": [
       "   payment_history  location_parameter  stem_degree_score  gpa_ranking  \\\n",
       "0              7.4                0.70               0.00          1.9   \n",
       "1              7.8                0.88               0.00          2.6   \n",
       "2              7.8                0.76               0.04          2.3   \n",
       "3             11.2                0.28               0.56          1.9   \n",
       "4              7.4                0.70               0.00          1.9   \n",
       "\n",
       "   alumni_success  study_major_code  time_to_completion  \\\n",
       "0           0.076              11.0                34.0   \n",
       "1           0.098              25.0                67.0   \n",
       "2           0.092              15.0                54.0   \n",
       "3           0.075              17.0                60.0   \n",
       "4           0.076              11.0                34.0   \n",
       "\n",
       "   finance_workshop_score  cohort_ranking  total_loan_score  \\\n",
       "0                  0.9978            3.51              0.56   \n",
       "1                  0.9968            3.20              0.68   \n",
       "2                  0.9970            3.26              0.65   \n",
       "3                  0.9980            3.16              0.58   \n",
       "4                  0.9978            3.51              0.56   \n",
       "\n",
       "   financial_aid_score  credit_ranking  \n",
       "0                  9.4               5  \n",
       "1                  9.8               5  \n",
       "2                  9.8               5  \n",
       "3                  9.8               6  \n",
       "4                  9.4               5  "
      ]
     },
     "execution_count": 153,
     "metadata": {},
     "output_type": "execute_result"
    }
   ],
   "source": [
    "# Read the csv into a Pandas DataFrame\n",
    "file_path = \"https://static.bc-edx.com/mbc/ai/m6/datasets/student_loans.csv\"\n",
    "df = pd.read_csv(file_path)\n",
    "\n",
    "# Review the DataFrame\n",
    "df.head()"
   ]
  },
  {
   "cell_type": "code",
   "execution_count": 154,
   "metadata": {},
   "outputs": [
    {
     "data": {
      "text/plain": [
       "(1599, 12)"
      ]
     },
     "execution_count": 154,
     "metadata": {},
     "output_type": "execute_result"
    }
   ],
   "source": [
    "df.shape"
   ]
  },
  {
   "cell_type": "code",
   "execution_count": 155,
   "metadata": {},
   "outputs": [
    {
     "data": {
      "text/plain": [
       "5    681\n",
       "6    638\n",
       "7    199\n",
       "4     53\n",
       "8     18\n",
       "3     10\n",
       "Name: credit_ranking, dtype: int64"
      ]
     },
     "execution_count": 155,
     "metadata": {},
     "output_type": "execute_result"
    }
   ],
   "source": [
    "df[\"credit_ranking\"].value_counts()"
   ]
  },
  {
   "cell_type": "code",
   "execution_count": 156,
   "metadata": {},
   "outputs": [
    {
     "data": {
      "text/plain": [
       "payment_history           float64\n",
       "location_parameter        float64\n",
       "stem_degree_score         float64\n",
       "gpa_ranking               float64\n",
       "alumni_success            float64\n",
       "study_major_code          float64\n",
       "time_to_completion        float64\n",
       "finance_workshop_score    float64\n",
       "cohort_ranking            float64\n",
       "total_loan_score          float64\n",
       "financial_aid_score       float64\n",
       "credit_ranking              int64\n",
       "dtype: object"
      ]
     },
     "execution_count": 156,
     "metadata": {},
     "output_type": "execute_result"
    }
   ],
   "source": [
    "# Review the data types associated with the columns\n",
    "df.dtypes"
   ]
  },
  {
   "cell_type": "markdown",
   "metadata": {},
   "source": [
    "### Step 2: Using the preprocessed data, create the features (`X`) and target (`y`) datasets. The target dataset should be defined by the preprocessed DataFrame column “credit_ranking”. The remaining columns should define the features dataset."
   ]
  },
  {
   "cell_type": "code",
   "execution_count": 157,
   "metadata": {},
   "outputs": [
    {
     "data": {
      "text/plain": [
       "0    5\n",
       "1    5\n",
       "2    5\n",
       "3    6\n",
       "4    5\n",
       "Name: credit_ranking, dtype: int64"
      ]
     },
     "execution_count": 157,
     "metadata": {},
     "output_type": "execute_result"
    }
   ],
   "source": [
    "# Define the target set y using the credit_ranking column\n",
    "y = df[\"credit_ranking\"]\n",
    "\n",
    "# Display a sample of y\n",
    "y[:5]"
   ]
  },
  {
   "cell_type": "code",
   "execution_count": 158,
   "metadata": {},
   "outputs": [
    {
     "data": {
      "text/html": [
       "<div>\n",
       "<style scoped>\n",
       "    .dataframe tbody tr th:only-of-type {\n",
       "        vertical-align: middle;\n",
       "    }\n",
       "\n",
       "    .dataframe tbody tr th {\n",
       "        vertical-align: top;\n",
       "    }\n",
       "\n",
       "    .dataframe thead th {\n",
       "        text-align: right;\n",
       "    }\n",
       "</style>\n",
       "<table border=\"1\" class=\"dataframe\">\n",
       "  <thead>\n",
       "    <tr style=\"text-align: right;\">\n",
       "      <th></th>\n",
       "      <th>payment_history</th>\n",
       "      <th>location_parameter</th>\n",
       "      <th>stem_degree_score</th>\n",
       "      <th>gpa_ranking</th>\n",
       "      <th>alumni_success</th>\n",
       "      <th>study_major_code</th>\n",
       "      <th>time_to_completion</th>\n",
       "      <th>finance_workshop_score</th>\n",
       "      <th>cohort_ranking</th>\n",
       "      <th>total_loan_score</th>\n",
       "      <th>financial_aid_score</th>\n",
       "    </tr>\n",
       "  </thead>\n",
       "  <tbody>\n",
       "    <tr>\n",
       "      <th>0</th>\n",
       "      <td>7.4</td>\n",
       "      <td>0.70</td>\n",
       "      <td>0.00</td>\n",
       "      <td>1.9</td>\n",
       "      <td>0.076</td>\n",
       "      <td>11.0</td>\n",
       "      <td>34.0</td>\n",
       "      <td>0.9978</td>\n",
       "      <td>3.51</td>\n",
       "      <td>0.56</td>\n",
       "      <td>9.4</td>\n",
       "    </tr>\n",
       "    <tr>\n",
       "      <th>1</th>\n",
       "      <td>7.8</td>\n",
       "      <td>0.88</td>\n",
       "      <td>0.00</td>\n",
       "      <td>2.6</td>\n",
       "      <td>0.098</td>\n",
       "      <td>25.0</td>\n",
       "      <td>67.0</td>\n",
       "      <td>0.9968</td>\n",
       "      <td>3.20</td>\n",
       "      <td>0.68</td>\n",
       "      <td>9.8</td>\n",
       "    </tr>\n",
       "    <tr>\n",
       "      <th>2</th>\n",
       "      <td>7.8</td>\n",
       "      <td>0.76</td>\n",
       "      <td>0.04</td>\n",
       "      <td>2.3</td>\n",
       "      <td>0.092</td>\n",
       "      <td>15.0</td>\n",
       "      <td>54.0</td>\n",
       "      <td>0.9970</td>\n",
       "      <td>3.26</td>\n",
       "      <td>0.65</td>\n",
       "      <td>9.8</td>\n",
       "    </tr>\n",
       "    <tr>\n",
       "      <th>3</th>\n",
       "      <td>11.2</td>\n",
       "      <td>0.28</td>\n",
       "      <td>0.56</td>\n",
       "      <td>1.9</td>\n",
       "      <td>0.075</td>\n",
       "      <td>17.0</td>\n",
       "      <td>60.0</td>\n",
       "      <td>0.9980</td>\n",
       "      <td>3.16</td>\n",
       "      <td>0.58</td>\n",
       "      <td>9.8</td>\n",
       "    </tr>\n",
       "    <tr>\n",
       "      <th>4</th>\n",
       "      <td>7.4</td>\n",
       "      <td>0.70</td>\n",
       "      <td>0.00</td>\n",
       "      <td>1.9</td>\n",
       "      <td>0.076</td>\n",
       "      <td>11.0</td>\n",
       "      <td>34.0</td>\n",
       "      <td>0.9978</td>\n",
       "      <td>3.51</td>\n",
       "      <td>0.56</td>\n",
       "      <td>9.4</td>\n",
       "    </tr>\n",
       "  </tbody>\n",
       "</table>\n",
       "</div>"
      ],
      "text/plain": [
       "   payment_history  location_parameter  stem_degree_score  gpa_ranking  \\\n",
       "0              7.4                0.70               0.00          1.9   \n",
       "1              7.8                0.88               0.00          2.6   \n",
       "2              7.8                0.76               0.04          2.3   \n",
       "3             11.2                0.28               0.56          1.9   \n",
       "4              7.4                0.70               0.00          1.9   \n",
       "\n",
       "   alumni_success  study_major_code  time_to_completion  \\\n",
       "0           0.076              11.0                34.0   \n",
       "1           0.098              25.0                67.0   \n",
       "2           0.092              15.0                54.0   \n",
       "3           0.075              17.0                60.0   \n",
       "4           0.076              11.0                34.0   \n",
       "\n",
       "   finance_workshop_score  cohort_ranking  total_loan_score  \\\n",
       "0                  0.9978            3.51              0.56   \n",
       "1                  0.9968            3.20              0.68   \n",
       "2                  0.9970            3.26              0.65   \n",
       "3                  0.9980            3.16              0.58   \n",
       "4                  0.9978            3.51              0.56   \n",
       "\n",
       "   financial_aid_score  \n",
       "0                  9.4  \n",
       "1                  9.8  \n",
       "2                  9.8  \n",
       "3                  9.8  \n",
       "4                  9.4  "
      ]
     },
     "execution_count": 158,
     "metadata": {},
     "output_type": "execute_result"
    }
   ],
   "source": [
    "# Define features set X by selecting all columns but credit_ranking\n",
    "X = df.iloc[:,:-1]\n",
    "\n",
    "# Review the features DataFrame\n",
    "X.head()"
   ]
  },
  {
   "cell_type": "markdown",
   "metadata": {},
   "source": [
    "### Step 3: Split the features and target sets into training and testing datasets.\n"
   ]
  },
  {
   "cell_type": "code",
   "execution_count": 159,
   "metadata": {},
   "outputs": [],
   "source": [
    "# Split the preprocessed data into a training and testing dataset\n",
    "# Assign the function a random_state equal to 1\n",
    "X_train,X_test,y_train,y_test = train_test_split(X,y,random_state=1)"
   ]
  },
  {
   "cell_type": "markdown",
   "metadata": {},
   "source": [
    "### Step 4: Use scikit-learn's `StandardScaler` to scale the features data."
   ]
  },
  {
   "cell_type": "code",
   "execution_count": 160,
   "metadata": {},
   "outputs": [],
   "source": [
    "# Create a StandardScaler instance\n",
    "SS = StandardScaler()\n",
    "\n",
    "# Fit the scaler to the features training dataset\n",
    "SS.fit(X_train)\n",
    "\n",
    "# Fit the scaler to the features training dataset\n",
    "X_train_scaled = SS.transform(X_train)\n",
    "X_test_scaled = SS.transform(X_test)"
   ]
  },
  {
   "cell_type": "markdown",
   "metadata": {},
   "source": [
    "---\n",
    "\n",
    "## Compile and Evaluate a Model Using a Neural Network"
   ]
  },
  {
   "cell_type": "markdown",
   "metadata": {},
   "source": [
    "### Step 1: Create a deep neural network by assigning the number of input features, the number of layers, and the number of neurons on each layer using Tensorflow’s Keras.\n",
    "\n",
    "> **Hint** You can start with a two-layer deep neural network model that uses the `relu` activation function for both layers.\n"
   ]
  },
  {
   "cell_type": "code",
   "execution_count": 161,
   "metadata": {},
   "outputs": [
    {
     "data": {
      "text/plain": [
       "11"
      ]
     },
     "execution_count": 161,
     "metadata": {},
     "output_type": "execute_result"
    }
   ],
   "source": [
    "# Define the the number of inputs (features) to the model\n",
    "num_inputs = 11\n",
    "\n",
    "# Review the number of features\n",
    "num_inputs"
   ]
  },
  {
   "cell_type": "code",
   "execution_count": 162,
   "metadata": {},
   "outputs": [],
   "source": [
    "# Define the number of neurons in the output layer\n",
    "out_layer = 1"
   ]
  },
  {
   "cell_type": "code",
   "execution_count": 163,
   "metadata": {},
   "outputs": [
    {
     "data": {
      "text/plain": [
       "8"
      ]
     },
     "execution_count": 163,
     "metadata": {},
     "output_type": "execute_result"
    }
   ],
   "source": [
    "# Define the number of hidden nodes for the first hidden layer\n",
    "hidden1 = 8\n",
    "\n",
    "# Review the number hidden nodes in the first layer\n",
    "hidden1"
   ]
  },
  {
   "cell_type": "code",
   "execution_count": 164,
   "metadata": {},
   "outputs": [
    {
     "data": {
      "text/plain": [
       "4"
      ]
     },
     "execution_count": 164,
     "metadata": {},
     "output_type": "execute_result"
    }
   ],
   "source": [
    "# Define the number of hidden nodes for the second hidden layer\n",
    "hidden2 = 4\n",
    "\n",
    "# Review the number hidden nodes in the second layer\n",
    "hidden2"
   ]
  },
  {
   "cell_type": "code",
   "execution_count": 165,
   "metadata": {},
   "outputs": [],
   "source": [
    "# Create the Sequential model instance\n",
    "nn = Sequential()"
   ]
  },
  {
   "cell_type": "code",
   "execution_count": 166,
   "metadata": {},
   "outputs": [],
   "source": [
    "# Add the first hidden layer\n",
    "nn.add(Dense(units=hidden1,activation=\"relu\",input_dim=num_inputs))"
   ]
  },
  {
   "cell_type": "code",
   "execution_count": 167,
   "metadata": {},
   "outputs": [],
   "source": [
    "# Add the second hidden layer\n",
    "nn.add(Dense(units=hidden2,activation=\"relu\"))"
   ]
  },
  {
   "cell_type": "code",
   "execution_count": 168,
   "metadata": {},
   "outputs": [],
   "source": [
    "# Adding a third hidden layer\n",
    "#nn.add(Dense(units=3,activation=\"relu\"))"
   ]
  },
  {
   "cell_type": "code",
   "execution_count": 169,
   "metadata": {},
   "outputs": [],
   "source": [
    "# Add the output layer to the model specifying the number of output neurons and activation function\n",
    "nn.add(Dense(units=out_layer,activation=\"linear\"))"
   ]
  },
  {
   "cell_type": "code",
   "execution_count": 170,
   "metadata": {},
   "outputs": [
    {
     "name": "stdout",
     "output_type": "stream",
     "text": [
      "Model: \"sequential_6\"\n",
      "_________________________________________________________________\n",
      " Layer (type)                Output Shape              Param #   \n",
      "=================================================================\n",
      " dense_19 (Dense)            (None, 8)                 96        \n",
      "                                                                 \n",
      " dense_20 (Dense)            (None, 4)                 36        \n",
      "                                                                 \n",
      " dense_21 (Dense)            (None, 1)                 5         \n",
      "                                                                 \n",
      "=================================================================\n",
      "Total params: 137 (548.00 Byte)\n",
      "Trainable params: 137 (548.00 Byte)\n",
      "Non-trainable params: 0 (0.00 Byte)\n",
      "_________________________________________________________________\n"
     ]
    }
   ],
   "source": [
    "# Display the Sequential model summary\n",
    "nn.summary()"
   ]
  },
  {
   "cell_type": "markdown",
   "metadata": {},
   "source": [
    "### Step 2: Compile and fit the model using the `mse` loss function, the `adam` optimizer, and the `mse` evaluation metric.\n"
   ]
  },
  {
   "cell_type": "code",
   "execution_count": 171,
   "metadata": {},
   "outputs": [],
   "source": [
    "# Compile the Sequential model\n",
    "nn.compile(loss=\"mean_squared_error\",optimizer=\"adam\",metrics=[\"mse\"])"
   ]
  },
  {
   "cell_type": "code",
   "execution_count": 172,
   "metadata": {},
   "outputs": [
    {
     "name": "stdout",
     "output_type": "stream",
     "text": [
      "Epoch 1/100\n",
      "38/38 [==============================] - 1s 812us/step - loss: 31.0002 - mse: 31.0002\n",
      "Epoch 2/100\n",
      "38/38 [==============================] - 0s 757us/step - loss: 26.6287 - mse: 26.6287\n",
      "Epoch 3/100\n",
      "38/38 [==============================] - 0s 730us/step - loss: 22.1157 - mse: 22.1157\n",
      "Epoch 4/100\n",
      "38/38 [==============================] - 0s 730us/step - loss: 17.3875 - mse: 17.3875\n",
      "Epoch 5/100\n",
      "38/38 [==============================] - 0s 703us/step - loss: 12.8984 - mse: 12.8984\n",
      "Epoch 6/100\n",
      "38/38 [==============================] - 0s 730us/step - loss: 9.2346 - mse: 9.2346\n",
      "Epoch 7/100\n",
      "38/38 [==============================] - 0s 730us/step - loss: 6.7407 - mse: 6.7407\n",
      "Epoch 8/100\n",
      "38/38 [==============================] - 0s 730us/step - loss: 5.2350 - mse: 5.2350\n",
      "Epoch 9/100\n",
      "38/38 [==============================] - 0s 703us/step - loss: 4.2959 - mse: 4.2959\n",
      "Epoch 10/100\n",
      "38/38 [==============================] - 0s 730us/step - loss: 3.6418 - mse: 3.6418\n",
      "Epoch 11/100\n",
      "38/38 [==============================] - 0s 703us/step - loss: 3.1486 - mse: 3.1486\n",
      "Epoch 12/100\n",
      "38/38 [==============================] - 0s 716us/step - loss: 2.7729 - mse: 2.7729\n",
      "Epoch 13/100\n",
      "38/38 [==============================] - 0s 703us/step - loss: 2.4733 - mse: 2.4733\n",
      "Epoch 14/100\n",
      "38/38 [==============================] - 0s 730us/step - loss: 2.2150 - mse: 2.2150\n",
      "Epoch 15/100\n",
      "38/38 [==============================] - 0s 730us/step - loss: 1.9954 - mse: 1.9954\n",
      "Epoch 16/100\n",
      "38/38 [==============================] - 0s 730us/step - loss: 1.8297 - mse: 1.8297\n",
      "Epoch 17/100\n",
      "38/38 [==============================] - 0s 703us/step - loss: 1.6922 - mse: 1.6922\n",
      "Epoch 18/100\n",
      "38/38 [==============================] - 0s 730us/step - loss: 1.5722 - mse: 1.5722\n",
      "Epoch 19/100\n",
      "38/38 [==============================] - 0s 730us/step - loss: 1.4681 - mse: 1.4681\n",
      "Epoch 20/100\n",
      "38/38 [==============================] - 0s 730us/step - loss: 1.3748 - mse: 1.3748\n",
      "Epoch 21/100\n",
      "38/38 [==============================] - 0s 730us/step - loss: 1.2902 - mse: 1.2902\n",
      "Epoch 22/100\n",
      "38/38 [==============================] - 0s 784us/step - loss: 1.2149 - mse: 1.2149\n",
      "Epoch 23/100\n",
      "38/38 [==============================] - 0s 757us/step - loss: 1.1438 - mse: 1.1438\n",
      "Epoch 24/100\n",
      "38/38 [==============================] - 0s 785us/step - loss: 1.0810 - mse: 1.0810\n",
      "Epoch 25/100\n",
      "38/38 [==============================] - 0s 730us/step - loss: 1.0223 - mse: 1.0223\n",
      "Epoch 26/100\n",
      "38/38 [==============================] - 0s 730us/step - loss: 0.9703 - mse: 0.9703\n",
      "Epoch 27/100\n",
      "38/38 [==============================] - 0s 730us/step - loss: 0.9219 - mse: 0.9219\n",
      "Epoch 28/100\n",
      "38/38 [==============================] - 0s 730us/step - loss: 0.8778 - mse: 0.8778\n",
      "Epoch 29/100\n",
      "38/38 [==============================] - 0s 757us/step - loss: 0.8413 - mse: 0.8413\n",
      "Epoch 30/100\n",
      "38/38 [==============================] - 0s 757us/step - loss: 0.8087 - mse: 0.8087\n",
      "Epoch 31/100\n",
      "38/38 [==============================] - 0s 757us/step - loss: 0.7753 - mse: 0.7753\n",
      "Epoch 32/100\n",
      "38/38 [==============================] - 0s 703us/step - loss: 0.7444 - mse: 0.7444\n",
      "Epoch 33/100\n",
      "38/38 [==============================] - 0s 703us/step - loss: 0.7200 - mse: 0.7200\n",
      "Epoch 34/100\n",
      "38/38 [==============================] - 0s 730us/step - loss: 0.6937 - mse: 0.6937\n",
      "Epoch 35/100\n",
      "38/38 [==============================] - 0s 757us/step - loss: 0.6721 - mse: 0.6721\n",
      "Epoch 36/100\n",
      "38/38 [==============================] - 0s 730us/step - loss: 0.6549 - mse: 0.6549\n",
      "Epoch 37/100\n",
      "38/38 [==============================] - 0s 730us/step - loss: 0.6341 - mse: 0.6341\n",
      "Epoch 38/100\n",
      "38/38 [==============================] - 0s 730us/step - loss: 0.6169 - mse: 0.6169\n",
      "Epoch 39/100\n",
      "38/38 [==============================] - 0s 730us/step - loss: 0.6011 - mse: 0.6011\n",
      "Epoch 40/100\n",
      "38/38 [==============================] - 0s 730us/step - loss: 0.5849 - mse: 0.5849\n",
      "Epoch 41/100\n",
      "38/38 [==============================] - 0s 730us/step - loss: 0.5727 - mse: 0.5727\n",
      "Epoch 42/100\n",
      "38/38 [==============================] - 0s 757us/step - loss: 0.5595 - mse: 0.5595\n",
      "Epoch 43/100\n",
      "38/38 [==============================] - 0s 730us/step - loss: 0.5490 - mse: 0.5490\n",
      "Epoch 44/100\n",
      "38/38 [==============================] - 0s 703us/step - loss: 0.5376 - mse: 0.5376\n",
      "Epoch 45/100\n",
      "38/38 [==============================] - 0s 730us/step - loss: 0.5295 - mse: 0.5295\n",
      "Epoch 46/100\n",
      "38/38 [==============================] - 0s 730us/step - loss: 0.5194 - mse: 0.5194\n",
      "Epoch 47/100\n",
      "38/38 [==============================] - 0s 703us/step - loss: 0.5134 - mse: 0.5134\n",
      "Epoch 48/100\n",
      "38/38 [==============================] - 0s 703us/step - loss: 0.5101 - mse: 0.5101\n",
      "Epoch 49/100\n",
      "38/38 [==============================] - 0s 730us/step - loss: 0.4985 - mse: 0.4985\n",
      "Epoch 50/100\n",
      "38/38 [==============================] - 0s 703us/step - loss: 0.4922 - mse: 0.4922\n",
      "Epoch 51/100\n",
      "38/38 [==============================] - 0s 730us/step - loss: 0.4855 - mse: 0.4855\n",
      "Epoch 52/100\n",
      "38/38 [==============================] - 0s 703us/step - loss: 0.4830 - mse: 0.4830\n",
      "Epoch 53/100\n",
      "38/38 [==============================] - 0s 703us/step - loss: 0.4753 - mse: 0.4753\n",
      "Epoch 54/100\n",
      "38/38 [==============================] - 0s 730us/step - loss: 0.4722 - mse: 0.4722\n",
      "Epoch 55/100\n",
      "38/38 [==============================] - 0s 703us/step - loss: 0.4683 - mse: 0.4683\n",
      "Epoch 56/100\n",
      "38/38 [==============================] - 0s 730us/step - loss: 0.4636 - mse: 0.4636\n",
      "Epoch 57/100\n",
      "38/38 [==============================] - 0s 730us/step - loss: 0.4600 - mse: 0.4600\n",
      "Epoch 58/100\n",
      "38/38 [==============================] - 0s 730us/step - loss: 0.4570 - mse: 0.4570\n",
      "Epoch 59/100\n",
      "38/38 [==============================] - 0s 703us/step - loss: 0.4555 - mse: 0.4555\n",
      "Epoch 60/100\n",
      "38/38 [==============================] - 0s 730us/step - loss: 0.4510 - mse: 0.4510\n",
      "Epoch 61/100\n",
      "38/38 [==============================] - 0s 730us/step - loss: 0.4465 - mse: 0.4465\n",
      "Epoch 62/100\n",
      "38/38 [==============================] - 0s 757us/step - loss: 0.4445 - mse: 0.4445\n",
      "Epoch 63/100\n",
      "38/38 [==============================] - 0s 730us/step - loss: 0.4431 - mse: 0.4431\n",
      "Epoch 64/100\n",
      "38/38 [==============================] - 0s 703us/step - loss: 0.4394 - mse: 0.4394\n",
      "Epoch 65/100\n",
      "38/38 [==============================] - 0s 730us/step - loss: 0.4374 - mse: 0.4374\n",
      "Epoch 66/100\n",
      "38/38 [==============================] - 0s 730us/step - loss: 0.4357 - mse: 0.4357\n",
      "Epoch 67/100\n",
      "38/38 [==============================] - 0s 730us/step - loss: 0.4341 - mse: 0.4341\n",
      "Epoch 68/100\n",
      "38/38 [==============================] - 0s 703us/step - loss: 0.4320 - mse: 0.4320\n",
      "Epoch 69/100\n",
      "38/38 [==============================] - 0s 676us/step - loss: 0.4290 - mse: 0.4290\n",
      "Epoch 70/100\n",
      "38/38 [==============================] - 0s 730us/step - loss: 0.4282 - mse: 0.4282\n",
      "Epoch 71/100\n",
      "38/38 [==============================] - 0s 703us/step - loss: 0.4256 - mse: 0.4256\n",
      "Epoch 72/100\n",
      "38/38 [==============================] - 0s 730us/step - loss: 0.4244 - mse: 0.4244\n",
      "Epoch 73/100\n",
      "38/38 [==============================] - 0s 730us/step - loss: 0.4227 - mse: 0.4227\n",
      "Epoch 74/100\n",
      "38/38 [==============================] - 0s 757us/step - loss: 0.4223 - mse: 0.4223\n",
      "Epoch 75/100\n",
      "38/38 [==============================] - 0s 730us/step - loss: 0.4200 - mse: 0.4200\n",
      "Epoch 76/100\n",
      "38/38 [==============================] - 0s 730us/step - loss: 0.4172 - mse: 0.4172\n",
      "Epoch 77/100\n",
      "38/38 [==============================] - 0s 703us/step - loss: 0.4162 - mse: 0.4162\n",
      "Epoch 78/100\n",
      "38/38 [==============================] - 0s 730us/step - loss: 0.4155 - mse: 0.4155\n",
      "Epoch 79/100\n",
      "38/38 [==============================] - 0s 730us/step - loss: 0.4155 - mse: 0.4155\n",
      "Epoch 80/100\n",
      "38/38 [==============================] - 0s 730us/step - loss: 0.4121 - mse: 0.4121\n",
      "Epoch 81/100\n",
      "38/38 [==============================] - 0s 703us/step - loss: 0.4111 - mse: 0.4111\n",
      "Epoch 82/100\n",
      "38/38 [==============================] - 0s 703us/step - loss: 0.4128 - mse: 0.4128\n",
      "Epoch 83/100\n",
      "38/38 [==============================] - 0s 676us/step - loss: 0.4104 - mse: 0.4104\n",
      "Epoch 84/100\n",
      "38/38 [==============================] - 0s 730us/step - loss: 0.4099 - mse: 0.4099\n",
      "Epoch 85/100\n"
     ]
    },
    {
     "name": "stdout",
     "output_type": "stream",
     "text": [
      "38/38 [==============================] - 0s 703us/step - loss: 0.4100 - mse: 0.4100\n",
      "Epoch 86/100\n",
      "38/38 [==============================] - 0s 703us/step - loss: 0.4078 - mse: 0.4078\n",
      "Epoch 87/100\n",
      "38/38 [==============================] - 0s 730us/step - loss: 0.4062 - mse: 0.4062\n",
      "Epoch 88/100\n",
      "38/38 [==============================] - 0s 703us/step - loss: 0.4071 - mse: 0.4071\n",
      "Epoch 89/100\n",
      "38/38 [==============================] - 0s 730us/step - loss: 0.4049 - mse: 0.4049\n",
      "Epoch 90/100\n",
      "38/38 [==============================] - 0s 730us/step - loss: 0.4035 - mse: 0.4035\n",
      "Epoch 91/100\n",
      "38/38 [==============================] - 0s 707us/step - loss: 0.4048 - mse: 0.4048\n",
      "Epoch 92/100\n",
      "38/38 [==============================] - 0s 703us/step - loss: 0.4030 - mse: 0.4030\n",
      "Epoch 93/100\n",
      "38/38 [==============================] - 0s 703us/step - loss: 0.4043 - mse: 0.4043\n",
      "Epoch 94/100\n",
      "38/38 [==============================] - 0s 730us/step - loss: 0.4021 - mse: 0.4021\n",
      "Epoch 95/100\n",
      "38/38 [==============================] - 0s 730us/step - loss: 0.4011 - mse: 0.4011\n",
      "Epoch 96/100\n",
      "38/38 [==============================] - 0s 703us/step - loss: 0.4004 - mse: 0.4004\n",
      "Epoch 97/100\n",
      "38/38 [==============================] - 0s 757us/step - loss: 0.3995 - mse: 0.3995\n",
      "Epoch 98/100\n",
      "38/38 [==============================] - 0s 703us/step - loss: 0.4000 - mse: 0.4000\n",
      "Epoch 99/100\n",
      "38/38 [==============================] - 0s 730us/step - loss: 0.3994 - mse: 0.3994\n",
      "Epoch 100/100\n",
      "38/38 [==============================] - 0s 730us/step - loss: 0.3975 - mse: 0.3975\n"
     ]
    }
   ],
   "source": [
    "# Fit the model using 50 epochs and the training data\n",
    "model = nn.fit(X_train_scaled,y_train,epochs=100)"
   ]
  },
  {
   "cell_type": "markdown",
   "metadata": {},
   "source": [
    "### Step 3: Evaluate the model using the test data to determine the model’s loss and accuracy.\n"
   ]
  },
  {
   "cell_type": "code",
   "execution_count": 173,
   "metadata": {},
   "outputs": [
    {
     "name": "stdout",
     "output_type": "stream",
     "text": [
      "13/13 [==============================] - 0s 751us/step - loss: 0.4110 - mse: 0.4110\n",
      "Loss: 0.41095733642578125, Accuracy: 0.41095733642578125\n"
     ]
    }
   ],
   "source": [
    "# Evaluate the model loss and accuracy metrics using the evaluate method and the test data\n",
    "model_loss,model_accuracy = nn.evaluate(X_test_scaled,y_test)\n",
    "\n",
    "# Display the model loss and accuracy results\n",
    "print(f\"Loss: {model_loss}, Accuracy: {model_accuracy}\")"
   ]
  },
  {
   "cell_type": "markdown",
   "metadata": {},
   "source": [
    "### Step 4: Save and export your model to an HDF5 file, and name the file `student_loans.h5`.\n"
   ]
  },
  {
   "cell_type": "code",
   "execution_count": 174,
   "metadata": {},
   "outputs": [
    {
     "name": "stderr",
     "output_type": "stream",
     "text": [
      "C:\\Users\\yeti4\\anaconda3\\envs\\dev\\lib\\site-packages\\keras\\src\\engine\\training.py:3000: UserWarning: You are saving your model as an HDF5 file via `model.save()`. This file format is considered legacy. We recommend using instead the native Keras format, e.g. `model.save('my_model.keras')`.\n",
      "  saving_api.save_model(\n"
     ]
    }
   ],
   "source": [
    "# Set the model's file path\n",
    "file_path = Path(\"saved_models/student_loans.h5\")\n",
    "\n",
    "# Export your model to a HDF5 file\n",
    "nn.save(file_path)"
   ]
  },
  {
   "cell_type": "markdown",
   "metadata": {},
   "source": [
    "---\n",
    "## Predict Loan Repayment Success by Using your Neural Network Model"
   ]
  },
  {
   "cell_type": "markdown",
   "metadata": {},
   "source": [
    "### Step 1: Reload your saved model."
   ]
  },
  {
   "cell_type": "code",
   "execution_count": 175,
   "metadata": {},
   "outputs": [],
   "source": [
    "# Set the model's file path\n",
    "file_path = Path(\"saved_models/student_loans.h5\")\n",
    "\n",
    "# Load the model to a new object\n",
    "nn_imported = tf.keras.models.load_model(file_path)"
   ]
  },
  {
   "cell_type": "markdown",
   "metadata": {},
   "source": [
    "### Step 2: Make predictions on the testing data."
   ]
  },
  {
   "cell_type": "code",
   "execution_count": 176,
   "metadata": {},
   "outputs": [
    {
     "name": "stdout",
     "output_type": "stream",
     "text": [
      "13/13 [==============================] - 0s 500us/step\n"
     ]
    }
   ],
   "source": [
    "# Make predictions on the testing data\n",
    "predictions = nn_imported.predict(X_test_scaled).round().astype(\"int32\")"
   ]
  },
  {
   "cell_type": "markdown",
   "metadata": {},
   "source": [
    "### Step 3: Create a DataFrame to compare the predictions with the actual values."
   ]
  },
  {
   "cell_type": "code",
   "execution_count": 177,
   "metadata": {},
   "outputs": [],
   "source": [
    "# Create a DataFrame to compare the predictions with the actual values\n",
    "df_pred = pd.DataFrame({\"predictions\":predictions.ravel(),\"actual\":y_test})"
   ]
  },
  {
   "cell_type": "markdown",
   "metadata": {},
   "source": [
    "### Step 4: Display a sample of the DataFrame you created in step 3."
   ]
  },
  {
   "cell_type": "code",
   "execution_count": 178,
   "metadata": {},
   "outputs": [
    {
     "data": {
      "text/html": [
       "<div>\n",
       "<style scoped>\n",
       "    .dataframe tbody tr th:only-of-type {\n",
       "        vertical-align: middle;\n",
       "    }\n",
       "\n",
       "    .dataframe tbody tr th {\n",
       "        vertical-align: top;\n",
       "    }\n",
       "\n",
       "    .dataframe thead th {\n",
       "        text-align: right;\n",
       "    }\n",
       "</style>\n",
       "<table border=\"1\" class=\"dataframe\">\n",
       "  <thead>\n",
       "    <tr style=\"text-align: right;\">\n",
       "      <th></th>\n",
       "      <th>predictions</th>\n",
       "      <th>actual</th>\n",
       "    </tr>\n",
       "  </thead>\n",
       "  <tbody>\n",
       "    <tr>\n",
       "      <th>75</th>\n",
       "      <td>6</td>\n",
       "      <td>5</td>\n",
       "    </tr>\n",
       "    <tr>\n",
       "      <th>1283</th>\n",
       "      <td>5</td>\n",
       "      <td>6</td>\n",
       "    </tr>\n",
       "    <tr>\n",
       "      <th>408</th>\n",
       "      <td>6</td>\n",
       "      <td>6</td>\n",
       "    </tr>\n",
       "    <tr>\n",
       "      <th>1281</th>\n",
       "      <td>6</td>\n",
       "      <td>6</td>\n",
       "    </tr>\n",
       "    <tr>\n",
       "      <th>1118</th>\n",
       "      <td>6</td>\n",
       "      <td>6</td>\n",
       "    </tr>\n",
       "    <tr>\n",
       "      <th>1143</th>\n",
       "      <td>6</td>\n",
       "      <td>6</td>\n",
       "    </tr>\n",
       "    <tr>\n",
       "      <th>1215</th>\n",
       "      <td>6</td>\n",
       "      <td>6</td>\n",
       "    </tr>\n",
       "    <tr>\n",
       "      <th>181</th>\n",
       "      <td>5</td>\n",
       "      <td>5</td>\n",
       "    </tr>\n",
       "    <tr>\n",
       "      <th>1186</th>\n",
       "      <td>6</td>\n",
       "      <td>5</td>\n",
       "    </tr>\n",
       "    <tr>\n",
       "      <th>1252</th>\n",
       "      <td>5</td>\n",
       "      <td>5</td>\n",
       "    </tr>\n",
       "  </tbody>\n",
       "</table>\n",
       "</div>"
      ],
      "text/plain": [
       "      predictions  actual\n",
       "75              6       5\n",
       "1283            5       6\n",
       "408             6       6\n",
       "1281            6       6\n",
       "1118            6       6\n",
       "1143            6       6\n",
       "1215            6       6\n",
       "181             5       5\n",
       "1186            6       5\n",
       "1252            5       5"
      ]
     },
     "execution_count": 178,
     "metadata": {},
     "output_type": "execute_result"
    }
   ],
   "source": [
    "# Display sample data\n",
    "df_pred.head(10)"
   ]
  }
 ],
 "metadata": {
  "kernelspec": {
   "display_name": "Python 3 (ipykernel)",
   "language": "python",
   "name": "python3"
  },
  "language_info": {
   "codemirror_mode": {
    "name": "ipython",
    "version": 3
   },
   "file_extension": ".py",
   "mimetype": "text/x-python",
   "name": "python",
   "nbconvert_exporter": "python",
   "pygments_lexer": "ipython3",
   "version": "3.10.12"
  }
 },
 "nbformat": 4,
 "nbformat_minor": 4
}
